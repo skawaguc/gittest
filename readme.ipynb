{
 "metadata": {
  "language_info": {
   "codemirror_mode": {
    "name": "ipython",
    "version": 3
   },
   "file_extension": ".py",
   "mimetype": "text/x-python",
   "name": "python",
   "nbconvert_exporter": "python",
   "pygments_lexer": "ipython3",
   "version": 3
  },
  "orig_nbformat": 2,
  "kernelspec": {
   "name": "python_defaultSpec_1595178174611",
   "display_name": "Python 3.7.5 64-bit"
  }
 },
 "nbformat": 4,
 "nbformat_minor": 2,
 "cells": [
  {
   "cell_type": "markdown",
   "metadata": {},
   "source": [
    "README.mdに数式を入れるとずれたりしてよくないので、jupyter-notebookのリンクを貼るにとどめ、数式はjupyter上で書きましょう。"
   ]
  },
  {
   "cell_type": "markdown",
   "metadata": {},
   "source": [
    "```tex\n",
    "    e^{i\\theta} = \\cos{\\theta} + i\\sin{\\theta} \\tag{1}\n",
    "```\n",
    "と書けば、以下のようになる。\n",
    "$$\n",
    "    \\begin{equation}\n",
    "        e^{i\\theta} = \\cos{\\theta} + i\\sin{\\theta} \\tag{1}\n",
    "    \\end{equation}\n",
    "$$"
   ]
  },
  {
   "cell_type": "markdown",
   "metadata": {},
   "source": [
    "$$\n",
    "    \\begin{equation}\n",
    "        e^{i\\theta} = \\cos{\\theta} + i\\sin{\\theta} \\tag{1}\n",
    "    \\end{equation}\n",
    "$$"
   ]
  },
  {
   "cell_type": "code",
   "execution_count": null,
   "metadata": {},
   "outputs": [],
   "source": []
  }
 ]
}